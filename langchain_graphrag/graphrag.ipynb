{
 "cells": [
  {
   "cell_type": "code",
   "execution_count": null,
   "id": "038e1b7e",
   "metadata": {},
   "outputs": [
    {
     "data": {
      "text/plain": [
       "True"
      ]
     },
     "execution_count": 8,
     "metadata": {},
     "output_type": "execute_result"
    }
   ],
   "source": [
    "import os\n",
    "from dotenv import load_dotenv\n",
    "\n",
    "from neo4j import GraphDatabase\n",
    "from neo4j import  Driver\n",
    "from pydantic import BaseModel, Field\n",
    "from langchain.text_splitter import RecursiveCharacterTextSplitter\n",
    "from langchain_core.runnables import  RunnablePassthrough\n",
    "from langchain_core.output_parsers import StrOutputParser\n",
    "from langchain_core.prompts import ChatPromptTemplate\n",
    "from langchain_community.graphs import Neo4jGraph\n",
    "from langchain_community.vectorstores import Neo4jVector\n",
    "from langchain_community.document_loaders import TextLoader\n",
    "from langchain_community.vectorstores.neo4j_vector import remove_lucene_chars\n",
    "from langchain_experimental.graph_transformers import LLMGraphTransformer\n",
    "from langchain_google_genai import GoogleGenerativeAIEmbeddings, ChatGoogleGenerativeAI\n",
    "from yfiles_jupyter_graphs import GraphWidget\n",
    "\n",
    "load_dotenv()"
   ]
  },
  {
   "cell_type": "code",
   "execution_count": 4,
   "id": "a382ca0d",
   "metadata": {},
   "outputs": [],
   "source": [
    "graph = Neo4jGraph()"
   ]
  },
  {
   "cell_type": "code",
   "execution_count": 6,
   "id": "9f575239",
   "metadata": {},
   "outputs": [],
   "source": [
    "loader = TextLoader(file_path=\"dummytext.txt\")\n",
    "docs = loader.load()\n",
    "text_splitter = RecursiveCharacterTextSplitter(chunk_size=256,\n",
    "                                               chunk_overlap=32)\n",
    "documents = text_splitter.split_documents(documents=docs)"
   ]
  },
  {
   "cell_type": "code",
   "execution_count": 12,
   "id": "1dcdad03",
   "metadata": {},
   "outputs": [
    {
     "name": "stderr",
     "output_type": "stream",
     "text": [
      "Retrying langchain_google_genai.chat_models._chat_with_retry.<locals>._chat_with_retry in 2.0 seconds as it raised DeadlineExceeded: 504 Deadline Exceeded.\n"
     ]
    }
   ],
   "source": [
    "llm = llm = ChatGoogleGenerativeAI(model=\"gemini-2.5-flash\",\n",
    "                                   temperature=0,\n",
    "                                   timeout=None)\n",
    "llm_transformer = LLMGraphTransformer(llm=llm)\n",
    "graph_documents = llm_transformer.convert_to_graph_documents(documents)"
   ]
  },
  {
   "cell_type": "code",
   "execution_count": 13,
   "id": "45e5dc39",
   "metadata": {},
   "outputs": [
    {
     "data": {
      "text/plain": [
       "GraphDocument(nodes=[Node(id=\"Amico'S Family\", type='Family', properties={}), Node(id='Legacy', type='Concept', properties={}), Node(id='Love', type='Concept', properties={}), Node(id='Tradition', type='Concept', properties={})], relationships=[Relationship(source=Node(id=\"Amico'S Family\", type='Family', properties={}), target=Node(id='Legacy', type='Concept', properties={}), type='HAS', properties={}), Relationship(source=Node(id='Legacy', type='Concept', properties={}), target=Node(id='Love', type='Concept', properties={}), type='INCLUDES', properties={}), Relationship(source=Node(id='Legacy', type='Concept', properties={}), target=Node(id='Tradition', type='Concept', properties={}), type='INCLUDES', properties={})], source=Document(metadata={'source': 'dummytext.txt'}, page_content='1. The Story of Amico’s Family: A Legacy of Love and Tradition'))"
      ]
     },
     "execution_count": 13,
     "metadata": {},
     "output_type": "execute_result"
    }
   ],
   "source": [
    "graph_documents[0]"
   ]
  },
  {
   "cell_type": "code",
   "execution_count": 14,
   "id": "cd491295",
   "metadata": {},
   "outputs": [],
   "source": [
    "graph.add_graph_documents(graph_documents=graph_documents,\n",
    "                          baseEntityLabel=True,\n",
    "                          include_source=True)"
   ]
  },
  {
   "cell_type": "code",
   "execution_count": null,
   "id": "d3fbc587",
   "metadata": {},
   "outputs": [
    {
     "data": {
      "application/vnd.jupyter.widget-view+json": {
       "model_id": "34c799d87e224f5d81245cc73721bfb0",
       "version_major": 2,
       "version_minor": 0
      },
      "text/plain": [
       "GraphWidget(layout=Layout(height='800px', width='100%'))"
      ]
     },
     "metadata": {},
     "output_type": "display_data"
    }
   ],
   "source": [
    "def showGraph() -> GraphWidget:\n",
    "    driver = GraphDatabase.driver(\n",
    "        uri = os.environ[\"NEO4J_URI\"],\n",
    "        auth= (os.environ[\"NEO4J_USERNAME\"], os.environ[\"NEO4J_PASSWORD\"]))\n",
    "    session = driver.session()\n",
    "    # Return all mentions relationships \n",
    "    widget = GraphWidget(graph = session.run(\"MATCH (s)-[r:!MENTIONS]->(t) RETURN s,r,t\").graph())\n",
    "    widget.node_label_mapping = \"id\"\n",
    "    return widget\n",
    "\n",
    "showGraph()"
   ]
  },
  {
   "cell_type": "code",
   "execution_count": 17,
   "id": "1e8bc768",
   "metadata": {},
   "outputs": [],
   "source": [
    "vector_index = Neo4jVector.from_existing_graph(\n",
    "    GoogleGenerativeAIEmbeddings(model=\"embedding-001\"),\n",
    "    search_type=\"hybrid\",\n",
    "    node_label=\"Document\",\n",
    "    text_node_properties=[\"text\"],\n",
    "    embedding_node_property=\"embedding\"\n",
    ")\n",
    "\n",
    "vector_retriever = vector_index.as_retriever()"
   ]
  },
  {
   "cell_type": "code",
   "execution_count": 48,
   "id": "fc4f1519",
   "metadata": {},
   "outputs": [
    {
     "data": {
      "text/plain": [
       "[Document(metadata={'source': 'dummytext.txt'}, page_content='\\ntext: Giovanni Caruso and Maria: The Founding Generation'),\n",
       " Document(metadata={'source': 'dummytext.txt'}, page_content='\\ntext: Nonna Lucia: The Matriarch and Mentor'),\n",
       " Document(metadata={'source': 'dummytext.txt'}, page_content='\\ntext: 5. Bella Vita - Los Angeles: Owned by Lucia Caruso'),\n",
       " Document(metadata={'source': 'dummytext.txt'}, page_content='\\ntext: 1. La Dolce Vita - Rome: Owned by Antonio Caruso')]"
      ]
     },
     "execution_count": 48,
     "metadata": {},
     "output_type": "execute_result"
    }
   ],
   "source": [
    "vector_retriever.invoke(\"Who are Nonna Lucia and Giovanni Caruso?\")"
   ]
  },
  {
   "cell_type": "markdown",
   "id": "f2350cfc",
   "metadata": {},
   "source": [
    "# RAG"
   ]
  },
  {
   "cell_type": "code",
   "execution_count": 40,
   "id": "f1b05430",
   "metadata": {},
   "outputs": [
    {
     "name": "stdout",
     "output_type": "stream",
     "text": [
      "Fulltext index created successfully.\n"
     ]
    }
   ],
   "source": [
    "driver = GraphDatabase.driver(\n",
    "        uri = os.environ[\"NEO4J_URI\"],\n",
    "        auth= (os.environ[\"NEO4J_USERNAME\"], os.environ[\"NEO4J_PASSWORD\"]))\n",
    "    \n",
    "\n",
    "def create_fulltext_index(tx):\n",
    "    query = '''\n",
    "    CREATE FULLTEXT INDEX `fulltext_entity_id` \n",
    "    FOR (n:__Entity__) \n",
    "    ON EACH [n.id];\n",
    "    '''\n",
    "    tx.run(query)\n",
    "\n",
    "def create_index():\n",
    "    with driver.session() as session:\n",
    "        session.execute_write(create_fulltext_index)\n",
    "        print(\"Fulltext index created successfully.\")\n",
    "\n",
    "try:\n",
    "    create_index()\n",
    "except:\n",
    "    pass\n",
    "\n",
    "driver.close()"
   ]
  },
  {
   "cell_type": "code",
   "execution_count": 41,
   "id": "ca83c739",
   "metadata": {},
   "outputs": [],
   "source": [
    "class Entities(BaseModel):\n",
    "    \"\"\"Identifying information about entities.\"\"\"\n",
    "\n",
    "    names: list[str] = Field(\n",
    "        ...,\n",
    "        description=\"All the person, organization, or business entities that appear in the text\"\n",
    "    )\n",
    "\n",
    "prompt = ChatPromptTemplate.from_messages(\n",
    "    [\n",
    "        (\n",
    "            \"system\",\n",
    "            \"You are extracting organization and person entities from the text.\",\n",
    "        ),\n",
    "        (\n",
    "            \"human\",\n",
    "            \"Use the given format to extract information from the following input: {question}\"\n",
    "        )\n",
    "    ]\n",
    ")\n",
    "\n",
    "entity_chain = prompt | llm.with_structured_output(Entities)"
   ]
  },
  {
   "cell_type": "code",
   "execution_count": 42,
   "id": "de4e399b",
   "metadata": {},
   "outputs": [
    {
     "data": {
      "text/plain": [
       "['Nonna Lucia', 'Giovanni Caruso']"
      ]
     },
     "execution_count": 42,
     "metadata": {},
     "output_type": "execute_result"
    }
   ],
   "source": [
    "entity_chain.invoke({\"question\":\"Who are Nonna Lucia and Giovanni Caruso?\"}).names"
   ]
  },
  {
   "cell_type": "code",
   "execution_count": 43,
   "id": "29b6cddd",
   "metadata": {},
   "outputs": [],
   "source": [
    "def generate_full_text_query(input: str) -> str:\n",
    "    words = [el for el in remove_lucene_chars(input).split() if el]\n",
    "    if not words:\n",
    "        return \"\"\n",
    "    full_text_query = \" AND \".join([f\"{word}~2\" for word in words])\n",
    "    print(f\"Generated Query: {full_text_query}\")\n",
    "    return full_text_query.strip()\n",
    "\n",
    "\n",
    "# Fulltext index query\n",
    "def graph_retriever(question: str) -> str:\n",
    "    \"\"\"\n",
    "    Collects the neighborhood of entities mentioned\n",
    "    in the question\n",
    "    \"\"\"\n",
    "    result = \"\"\n",
    "    entities = entity_chain.invoke(question)\n",
    "    for entity in entities.names:\n",
    "        response = graph.query(\n",
    "            \"\"\"CALL db.index.fulltext.queryNodes('fulltext_entity_id', $query, {limit:2})\n",
    "            YIELD node,score\n",
    "            CALL {\n",
    "              WITH node\n",
    "              MATCH (node)-[r:!MENTIONS]->(neighbor)\n",
    "              RETURN node.id + ' - ' + type(r) + ' -> ' + neighbor.id AS output\n",
    "              UNION ALL\n",
    "              WITH node\n",
    "              MATCH (node)<-[r:!MENTIONS]-(neighbor)\n",
    "              RETURN neighbor.id + ' - ' + type(r) + ' -> ' +  node.id AS output\n",
    "            }\n",
    "            RETURN output LIMIT 50\n",
    "            \"\"\",\n",
    "            {\"query\": entity},\n",
    "        )\n",
    "        result += \"\\n\".join([el['output'] for el in response])\n",
    "    return result"
   ]
  },
  {
   "cell_type": "code",
   "execution_count": 45,
   "id": "fe036696",
   "metadata": {},
   "outputs": [
    {
     "name": "stdout",
     "output_type": "stream",
     "text": [
      "Nonna Lucia - TAUGHT -> Amico\n",
      "Nonna Lucia - TAUGHT -> Sicilian Cooking\n",
      "Lucia - TAUGHT -> Aspiring Chefs\n",
      "Lucia - LOCATED_IN -> Los Angeles\n",
      "Lucia - FOCUSED_ON -> Sustainable Cooking Practices\n",
      "Lucia - SUPPORTS -> Local Artists\n",
      "Lucia - HAS_COMMITMENT_TO -> Sustainability\n",
      "Lucia - IS_ASSOCIATED_WITH -> Bella Vita\n",
      "Lucia - INHERITED_FROM -> Grandmother\n",
      "Lucia - FOUNDED -> Bella Vita\n",
      "Lucia - NAMED_AFTER -> Grandmother\n",
      "Lucia - USED_RECIPES_FROM -> Grandmother\n",
      "Lucia - GRANDMOTHER_OF -> Amico\n",
      "Lucia - MATRIARCH_OF -> Caruso Family\n",
      "Lucia - SISTER_OF -> Antonio\n"
     ]
    }
   ],
   "source": [
    "print(graph_retriever(\"Who is Nonna Lucia?\"))"
   ]
  },
  {
   "cell_type": "code",
   "execution_count": 46,
   "id": "6aaf9386",
   "metadata": {},
   "outputs": [],
   "source": [
    "def full_retriever(question: str):\n",
    "    graph_data = graph_retriever(question)\n",
    "    vector_data = [el.page_content for el in vector_retriever.invoke(question)]\n",
    "    final_data = f\"\"\"Graph data:\n",
    "    {graph_data}\n",
    "    vector data:\n",
    "    {\"#Document \". join(vector_data)}\n",
    "    \"\"\"\n",
    "    return final_data"
   ]
  },
  {
   "cell_type": "code",
   "execution_count": 49,
   "id": "ccfb7adf",
   "metadata": {},
   "outputs": [],
   "source": [
    "template = \"\"\"\n",
    "Answer the question based only on the following context:\n",
    "{context}\n",
    "Question: {question}\n",
    "Use natural language and be concise.\n",
    "Answer:\"\"\"\n",
    "prompt = ChatPromptTemplate.from_template(template)\n",
    "\n",
    "chain = (\n",
    "        {\n",
    "            \"context\": full_retriever,\n",
    "            \"question\": RunnablePassthrough(),\n",
    "        }\n",
    "    | prompt\n",
    "    | llm\n",
    "    | StrOutputParser()\n",
    ")"
   ]
  },
  {
   "cell_type": "code",
   "execution_count": 50,
   "id": "c2376af5",
   "metadata": {},
   "outputs": [
    {
     "data": {
      "text/plain": [
       "\"Nonna Lucia is Lucia, Antonio's sister and Amico's grandmother, and the matriarch of the Caruso family. Yes, she taught Amico and her grandchildren the art of Sicilian cooking, and also taught aspiring chefs about sustainable cooking practices.\""
      ]
     },
     "execution_count": 50,
     "metadata": {},
     "output_type": "execute_result"
    }
   ],
   "source": [
    "chain.invoke(input=\"Who is Nonna Lucia? Did she teach anyone about restaurants or cooking?\")"
   ]
  }
 ],
 "metadata": {
  "kernelspec": {
   "display_name": ".venv (3.13.3)",
   "language": "python",
   "name": "python3"
  },
  "language_info": {
   "codemirror_mode": {
    "name": "ipython",
    "version": 3
   },
   "file_extension": ".py",
   "mimetype": "text/x-python",
   "name": "python",
   "nbconvert_exporter": "python",
   "pygments_lexer": "ipython3",
   "version": "3.13.3"
  }
 },
 "nbformat": 4,
 "nbformat_minor": 5
}
