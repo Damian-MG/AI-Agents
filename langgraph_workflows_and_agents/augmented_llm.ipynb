{
 "cells": [
  {
   "cell_type": "code",
   "execution_count": 1,
   "id": "2c4e275d",
   "metadata": {},
   "outputs": [],
   "source": [
    "from dotenv import load_dotenv\n",
    "from pydantic import BaseModel, Field\n",
    "from langchain_google_genai import ChatGoogleGenerativeAI\n",
    "\n",
    "\n",
    "class SearchQuery(BaseModel):\n",
    "    search_query: str = Field(\n",
    "        None,\n",
    "        description=\"Query that is optimized web search.\")\n",
    "    justification: str = Field(\n",
    "        None,\n",
    "        description=\"Explain why this query is relevant to the user's request.\"\n",
    "    )\n",
    "\n",
    "\n",
    "def multiply(a: int, b: int) -> int:\n",
    "    return a*b"
   ]
  },
  {
   "cell_type": "code",
   "execution_count": 2,
   "id": "3f1d2ae8",
   "metadata": {},
   "outputs": [
    {
     "name": "stdout",
     "output_type": "stream",
     "text": [
      "search_query='calcium CT score high cholesterol relationship' justification='To understand the relationship between calcium CT score and high cholesterol levels.'\n"
     ]
    }
   ],
   "source": [
    "load_dotenv()\n",
    "llm = ChatGoogleGenerativeAI(\n",
    "    model=\"gemini-2.5-flash\",\n",
    "    temperature=0.9,\n",
    "    max_tokens=2048,\n",
    "    timeout=None,\n",
    "    max_retries=2\n",
    ")\n",
    "\n",
    "structured_llm = llm.with_structured_output(SearchQuery)\n",
    "output = structured_llm.invoke(\n",
    "    \"How does calcium CT score relate to high colesterol\")\n",
    "print(output)"
   ]
  },
  {
   "cell_type": "code",
   "execution_count": 3,
   "id": "a042175a",
   "metadata": {},
   "outputs": [
    {
     "name": "stdout",
     "output_type": "stream",
     "text": [
      "[{'name': 'multiply', 'args': {'a': 2.0, 'b': 3.0}, 'id': '31bbead7-d3c9-4bf3-90df-e6ae276cfe30', 'type': 'tool_call'}]\n"
     ]
    }
   ],
   "source": [
    "llm_with_tools = llm.bind_tools([multiply])\n",
    "msg = llm_with_tools.invoke(\"What is 2 times 3?\")\n",
    "print(msg.tool_calls)"
   ]
  }
 ],
 "metadata": {
  "kernelspec": {
   "display_name": ".venv (3.13.3)",
   "language": "python",
   "name": "python3"
  },
  "language_info": {
   "codemirror_mode": {
    "name": "ipython",
    "version": 3
   },
   "file_extension": ".py",
   "mimetype": "text/x-python",
   "name": "python",
   "nbconvert_exporter": "python",
   "pygments_lexer": "ipython3",
   "version": "3.13.3"
  }
 },
 "nbformat": 4,
 "nbformat_minor": 5
}
